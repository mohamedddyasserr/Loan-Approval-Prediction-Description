{
 "cells": [
  {
   "cell_type": "markdown",
   "source": [
    "# Data SetUp\n",
    "\n",
    "## Imports"
   ],
   "metadata": {
    "collapsed": false
   },
   "id": "be4265b310d6652d"
  },
  {
   "cell_type": "code",
   "execution_count": 8,
   "id": "initial_id",
   "metadata": {
    "collapsed": true,
    "ExecuteTime": {
     "end_time": "2025-08-18T11:36:26.688220Z",
     "start_time": "2025-08-18T11:36:26.638248300Z"
    }
   },
   "outputs": [],
   "source": [
    "import pandas as pd\n",
    "import numpy as np\n",
    "import shutil\n",
    "from pathlib import Path\n",
    "from sklearn.model_selection import train_test_split\n",
    "from sklearn.preprocessing import StandardScaler\n",
    "import kagglehub"
   ]
  },
  {
   "cell_type": "markdown",
   "source": [
    "## DataSet DownLoad & SetUp"
   ],
   "metadata": {
    "collapsed": false
   },
   "id": "430072348f4504df"
  },
  {
   "cell_type": "code",
   "outputs": [
    {
     "name": "stdout",
     "output_type": "stream",
     "text": [
      "✔️ Dataset is already downloaded.\n"
     ]
    }
   ],
   "source": [
    "# --- Directories ---\n",
    "raw_data_dir = Path(\"raw_data\")\n",
    "processed_data_dir = Path(\"processed_data\")\n",
    "\n",
    "# Create directories if not exist\n",
    "raw_data_dir.mkdir(exist_ok=True)\n",
    "processed_data_dir.mkdir(exist_ok=True)\n",
    "\n",
    "# File path for raw dataset\n",
    "raw_dataset = raw_data_dir / \"loan_approval_dataset.csv\"\n",
    "\n",
    "# Check and download dataset if not already available\n",
    "if raw_dataset.exists():\n",
    "    print(\"✔️ Dataset is already downloaded.\")\n",
    "else:\n",
    "    dataset_path = Path(kagglehub.dataset_download(\"architsharma01/loan-approval-prediction-dataset\"))\n",
    "\n",
    "    if not dataset_path.exists():\n",
    "        raise FileNotFoundError(\"⚠ Dataset not found.\")\n",
    "\n",
    "    # Handle possible \"Data\" subfolder\n",
    "    data_root = dataset_path / \"Data\" if (dataset_path / \"Data\").exists() else dataset_path\n",
    "\n",
    "    # Copy dataset into raw_data folder\n",
    "    for item in data_root.iterdir():\n",
    "        target = raw_data_dir / item.name\n",
    "        if item.is_file():\n",
    "            shutil.copy2(item, target)\n",
    "\n",
    "    print(\"✔️ Dataset successfully downloaded.\")\n"
   ],
   "metadata": {
    "collapsed": false,
    "ExecuteTime": {
     "end_time": "2025-08-18T11:45:27.703919100Z",
     "start_time": "2025-08-18T11:45:27.640234400Z"
    }
   },
   "id": "a0287e298cac5be6",
   "execution_count": 12
  },
  {
   "cell_type": "markdown",
   "source": [
    "## Load Dataset"
   ],
   "metadata": {
    "collapsed": false
   },
   "id": "34433840f566c2cd"
  },
  {
   "cell_type": "code",
   "outputs": [
    {
     "name": "stdout",
     "output_type": "stream",
     "text": [
      "✅ Data loaded successfully!\n"
     ]
    },
    {
     "data": {
      "text/plain": "   loan_id   no_of_dependents      education  self_employed   income_annum  \\\n0        1                  2       Graduate             No        9600000   \n1        2                  0   Not Graduate            Yes        4100000   \n2        3                  3       Graduate             No        9100000   \n3        4                  3       Graduate             No        8200000   \n4        5                  5   Not Graduate            Yes        9800000   \n\n    loan_amount   loan_term   cibil_score   residential_assets_value  \\\n0      29900000          12           778                    2400000   \n1      12200000           8           417                    2700000   \n2      29700000          20           506                    7100000   \n3      30700000           8           467                   18200000   \n4      24200000          20           382                   12400000   \n\n    commercial_assets_value   luxury_assets_value   bank_asset_value  \\\n0                  17600000              22700000            8000000   \n1                   2200000               8800000            3300000   \n2                   4500000              33300000           12800000   \n3                   3300000              23300000            7900000   \n4                   8200000              29400000            5000000   \n\n   loan_status  \n0     Approved  \n1     Rejected  \n2     Rejected  \n3     Rejected  \n4     Rejected  ",
      "text/html": "<div>\n<style scoped>\n    .dataframe tbody tr th:only-of-type {\n        vertical-align: middle;\n    }\n\n    .dataframe tbody tr th {\n        vertical-align: top;\n    }\n\n    .dataframe thead th {\n        text-align: right;\n    }\n</style>\n<table border=\"1\" class=\"dataframe\">\n  <thead>\n    <tr style=\"text-align: right;\">\n      <th></th>\n      <th>loan_id</th>\n      <th>no_of_dependents</th>\n      <th>education</th>\n      <th>self_employed</th>\n      <th>income_annum</th>\n      <th>loan_amount</th>\n      <th>loan_term</th>\n      <th>cibil_score</th>\n      <th>residential_assets_value</th>\n      <th>commercial_assets_value</th>\n      <th>luxury_assets_value</th>\n      <th>bank_asset_value</th>\n      <th>loan_status</th>\n    </tr>\n  </thead>\n  <tbody>\n    <tr>\n      <th>0</th>\n      <td>1</td>\n      <td>2</td>\n      <td>Graduate</td>\n      <td>No</td>\n      <td>9600000</td>\n      <td>29900000</td>\n      <td>12</td>\n      <td>778</td>\n      <td>2400000</td>\n      <td>17600000</td>\n      <td>22700000</td>\n      <td>8000000</td>\n      <td>Approved</td>\n    </tr>\n    <tr>\n      <th>1</th>\n      <td>2</td>\n      <td>0</td>\n      <td>Not Graduate</td>\n      <td>Yes</td>\n      <td>4100000</td>\n      <td>12200000</td>\n      <td>8</td>\n      <td>417</td>\n      <td>2700000</td>\n      <td>2200000</td>\n      <td>8800000</td>\n      <td>3300000</td>\n      <td>Rejected</td>\n    </tr>\n    <tr>\n      <th>2</th>\n      <td>3</td>\n      <td>3</td>\n      <td>Graduate</td>\n      <td>No</td>\n      <td>9100000</td>\n      <td>29700000</td>\n      <td>20</td>\n      <td>506</td>\n      <td>7100000</td>\n      <td>4500000</td>\n      <td>33300000</td>\n      <td>12800000</td>\n      <td>Rejected</td>\n    </tr>\n    <tr>\n      <th>3</th>\n      <td>4</td>\n      <td>3</td>\n      <td>Graduate</td>\n      <td>No</td>\n      <td>8200000</td>\n      <td>30700000</td>\n      <td>8</td>\n      <td>467</td>\n      <td>18200000</td>\n      <td>3300000</td>\n      <td>23300000</td>\n      <td>7900000</td>\n      <td>Rejected</td>\n    </tr>\n    <tr>\n      <th>4</th>\n      <td>5</td>\n      <td>5</td>\n      <td>Not Graduate</td>\n      <td>Yes</td>\n      <td>9800000</td>\n      <td>24200000</td>\n      <td>20</td>\n      <td>382</td>\n      <td>12400000</td>\n      <td>8200000</td>\n      <td>29400000</td>\n      <td>5000000</td>\n      <td>Rejected</td>\n    </tr>\n  </tbody>\n</table>\n</div>"
     },
     "execution_count": 7,
     "metadata": {},
     "output_type": "execute_result"
    }
   ],
   "source": [
    "raw_df = pd.read_csv(raw_dataset)\n",
    "print(\"✅ Data loaded successfully!\")\n",
    "raw_df.head()\n"
   ],
   "metadata": {
    "collapsed": false,
    "ExecuteTime": {
     "end_time": "2025-08-18T11:35:57.387136400Z",
     "start_time": "2025-08-18T11:35:57.255032800Z"
    }
   },
   "id": "ba120d4a6157a2f2",
   "execution_count": 7
  },
  {
   "cell_type": "markdown",
   "source": [
    "## Data PreProcessing"
   ],
   "metadata": {
    "collapsed": false
   },
   "id": "d576eda46a010160"
  },
  {
   "cell_type": "code",
   "outputs": [
    {
     "name": "stdout",
     "output_type": "stream",
     "text": [
      "✔️ Preprocessing completed (no warnings).\n"
     ]
    },
    {
     "data": {
      "text/plain": "   no_of_dependents  education  self_employed  income_annum  loan_amount  \\\n0         -0.294102          1              0      1.617979     1.633052   \n1         -1.473548          0              1     -0.341750    -0.324414   \n2          0.295621          1              0      1.439822     1.610933   \n3          0.295621          1              0      1.119139     1.721525   \n4          1.475067          0              1      1.689242     1.002681   \n\n   loan_term  cibil_score  residential_assets_value  commercial_assets_value  \\\n0   0.192617     1.032792                 -0.780058                 2.877289   \n1  -0.508091    -1.061051                 -0.733924                -0.631921   \n2   1.594031    -0.544840                 -0.057300                -0.107818   \n3  -0.508091    -0.771045                  1.649637                -0.381263   \n4   1.594031    -1.264055                  0.757724                 0.735304   \n\n   luxury_assets_value  bank_asset_value  loan_status  \n0             0.832028          0.930304            1  \n1            -0.694993         -0.515936            0  \n2             1.996520          2.407316            0  \n3             0.897943          0.899533            0  \n4             1.568075          0.007172            0  ",
      "text/html": "<div>\n<style scoped>\n    .dataframe tbody tr th:only-of-type {\n        vertical-align: middle;\n    }\n\n    .dataframe tbody tr th {\n        vertical-align: top;\n    }\n\n    .dataframe thead th {\n        text-align: right;\n    }\n</style>\n<table border=\"1\" class=\"dataframe\">\n  <thead>\n    <tr style=\"text-align: right;\">\n      <th></th>\n      <th>no_of_dependents</th>\n      <th>education</th>\n      <th>self_employed</th>\n      <th>income_annum</th>\n      <th>loan_amount</th>\n      <th>loan_term</th>\n      <th>cibil_score</th>\n      <th>residential_assets_value</th>\n      <th>commercial_assets_value</th>\n      <th>luxury_assets_value</th>\n      <th>bank_asset_value</th>\n      <th>loan_status</th>\n    </tr>\n  </thead>\n  <tbody>\n    <tr>\n      <th>0</th>\n      <td>-0.294102</td>\n      <td>1</td>\n      <td>0</td>\n      <td>1.617979</td>\n      <td>1.633052</td>\n      <td>0.192617</td>\n      <td>1.032792</td>\n      <td>-0.780058</td>\n      <td>2.877289</td>\n      <td>0.832028</td>\n      <td>0.930304</td>\n      <td>1</td>\n    </tr>\n    <tr>\n      <th>1</th>\n      <td>-1.473548</td>\n      <td>0</td>\n      <td>1</td>\n      <td>-0.341750</td>\n      <td>-0.324414</td>\n      <td>-0.508091</td>\n      <td>-1.061051</td>\n      <td>-0.733924</td>\n      <td>-0.631921</td>\n      <td>-0.694993</td>\n      <td>-0.515936</td>\n      <td>0</td>\n    </tr>\n    <tr>\n      <th>2</th>\n      <td>0.295621</td>\n      <td>1</td>\n      <td>0</td>\n      <td>1.439822</td>\n      <td>1.610933</td>\n      <td>1.594031</td>\n      <td>-0.544840</td>\n      <td>-0.057300</td>\n      <td>-0.107818</td>\n      <td>1.996520</td>\n      <td>2.407316</td>\n      <td>0</td>\n    </tr>\n    <tr>\n      <th>3</th>\n      <td>0.295621</td>\n      <td>1</td>\n      <td>0</td>\n      <td>1.119139</td>\n      <td>1.721525</td>\n      <td>-0.508091</td>\n      <td>-0.771045</td>\n      <td>1.649637</td>\n      <td>-0.381263</td>\n      <td>0.897943</td>\n      <td>0.899533</td>\n      <td>0</td>\n    </tr>\n    <tr>\n      <th>4</th>\n      <td>1.475067</td>\n      <td>0</td>\n      <td>1</td>\n      <td>1.689242</td>\n      <td>1.002681</td>\n      <td>1.594031</td>\n      <td>-1.264055</td>\n      <td>0.757724</td>\n      <td>0.735304</td>\n      <td>1.568075</td>\n      <td>0.007172</td>\n      <td>0</td>\n    </tr>\n  </tbody>\n</table>\n</div>"
     },
     "execution_count": 10,
     "metadata": {},
     "output_type": "execute_result"
    }
   ],
   "source": [
    "# 1. Clean column names\n",
    "raw_df.columns = raw_df.columns.str.strip()\n",
    "\n",
    "# 2. Drop non-informative columns\n",
    "processed_df = raw_df.drop(columns=['loan_id'])\n",
    "\n",
    "# 3. Handle missing values safely (no inplace warnings)\n",
    "for col in processed_df.columns:\n",
    "    if processed_df[col].dtype == \"object\":\n",
    "        processed_df[col] = processed_df[col].fillna(processed_df[col].mode()[0])\n",
    "    else:\n",
    "        processed_df[col] = processed_df[col].fillna(processed_df[col].median())\n",
    "\n",
    "# 4. Encode categorical variables\n",
    "processed_df['education'] = processed_df['education'].map({\" Graduate\": 1, \" Not Graduate\": 0})\n",
    "processed_df['self_employed'] = processed_df['self_employed'].map({\" Yes\": 1, \" No\": 0})\n",
    "processed_df['loan_status'] = processed_df['loan_status'].map({\" Approved\": 1, \" Rejected\": 0})\n",
    "\n",
    "# 5. Standardize numerical features\n",
    "numerical_features = [\n",
    "    'no_of_dependents', 'income_annum', 'loan_amount', 'loan_term',\n",
    "    'cibil_score', 'residential_assets_value', 'commercial_assets_value',\n",
    "    'luxury_assets_value', 'bank_asset_value'\n",
    "]\n",
    "\n",
    "scaler = StandardScaler()\n",
    "processed_df[numerical_features] = scaler.fit_transform(processed_df[numerical_features])\n",
    "\n",
    "print(\"✔️ Preprocessing completed (no warnings).\")\n",
    "processed_df.head()\n"
   ],
   "metadata": {
    "collapsed": false,
    "ExecuteTime": {
     "end_time": "2025-08-18T11:38:20.348921300Z",
     "start_time": "2025-08-18T11:38:20.231130100Z"
    }
   },
   "id": "12343bdeb229fa58",
   "execution_count": 10
  },
  {
   "cell_type": "markdown",
   "source": [
    "## Train/Test Split"
   ],
   "metadata": {
    "collapsed": false
   },
   "id": "534cdb3801af368f"
  },
  {
   "cell_type": "code",
   "outputs": [
    {
     "name": "stdout",
     "output_type": "stream",
     "text": [
      "✔️ Data successfully split:\n",
      "Training samples: 3415\n",
      "Testing samples:  854\n"
     ]
    }
   ],
   "source": [
    "# Separate features (X) and target (y)\n",
    "X = processed_df.drop(columns=['loan_status'])\n",
    "y = processed_df['loan_status']\n",
    "\n",
    "# Split dataset\n",
    "X_train, X_test, y_train, y_test = train_test_split(\n",
    "    X, y, test_size=0.2, random_state=42, stratify=y\n",
    ")\n",
    "\n",
    "print(\"✔️ Data successfully split:\")\n",
    "print(f\"Training samples: {X_train.shape[0]}\")\n",
    "print(f\"Testing samples:  {X_test.shape[0]}\")\n"
   ],
   "metadata": {
    "collapsed": false,
    "ExecuteTime": {
     "end_time": "2025-08-18T11:42:33.367482700Z",
     "start_time": "2025-08-18T11:42:33.246639800Z"
    }
   },
   "id": "473f1d909a51029f",
   "execution_count": 11
  },
  {
   "cell_type": "markdown",
   "source": [
    "## Save Processed Data"
   ],
   "metadata": {
    "collapsed": false
   },
   "id": "37ba8f0e1534e2ff"
  },
  {
   "cell_type": "code",
   "outputs": [
    {
     "name": "stdout",
     "output_type": "stream",
     "text": [
      "✔️ Processed dataset and splits saved successfully.\n"
     ]
    }
   ],
   "source": [
    "# Save full preprocessed dataset\n",
    "processed_df.to_csv(processed_data_dir / \"loan_approval_preprocessed.csv\", index=False)\n",
    "\n",
    "# Save train/test splits\n",
    "train_df = X_train.copy()\n",
    "train_df[\"loan_status\"] = y_train\n",
    "train_df.to_csv(processed_data_dir / \"train.csv\", index=False)\n",
    "\n",
    "test_df = X_test.copy()\n",
    "test_df[\"loan_status\"] = y_test\n",
    "test_df.to_csv(processed_data_dir / \"test.csv\", index=False)\n",
    "\n",
    "print(\"✔️ Processed dataset and splits saved successfully.\")\n"
   ],
   "metadata": {
    "collapsed": false,
    "ExecuteTime": {
     "end_time": "2025-08-18T11:45:35.301216500Z",
     "start_time": "2025-08-18T11:45:34.937278500Z"
    }
   },
   "id": "33dd91254a5b8bb6",
   "execution_count": 13
  },
  {
   "cell_type": "code",
   "outputs": [
    {
     "name": "stdout",
     "output_type": "stream",
     "text": [
      "Files saved in: processed_data\n",
      " - loan_approval_preprocessed.csv\n",
      " - test.csv\n",
      " - train.csv\n"
     ]
    }
   ],
   "source": [
    "# --- Quick check of saved files ---\n",
    "\n",
    "print(\"Files saved in:\", processed_data_dir)\n",
    "for f in processed_data_dir.iterdir():\n",
    "    print(\" -\", f.name)\n"
   ],
   "metadata": {
    "collapsed": false,
    "ExecuteTime": {
     "end_time": "2025-08-18T11:45:59.402782700Z",
     "start_time": "2025-08-18T11:45:59.335766900Z"
    }
   },
   "id": "c60935efc8d8e17f",
   "execution_count": 14
  }
 ],
 "metadata": {
  "kernelspec": {
   "display_name": "Python 3",
   "language": "python",
   "name": "python3"
  },
  "language_info": {
   "codemirror_mode": {
    "name": "ipython",
    "version": 2
   },
   "file_extension": ".py",
   "mimetype": "text/x-python",
   "name": "python",
   "nbconvert_exporter": "python",
   "pygments_lexer": "ipython2",
   "version": "2.7.6"
  }
 },
 "nbformat": 4,
 "nbformat_minor": 5
}
