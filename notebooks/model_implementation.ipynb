{
 "cells": [
  {
   "cell_type": "markdown",
   "source": [
    "# Models Implementation & SetUp\n",
    "\n",
    "## Imports & Setup"
   ],
   "metadata": {
    "collapsed": false
   },
   "id": "a5b26ae9dd7b49e4"
  },
  {
   "cell_type": "code",
   "execution_count": 24,
   "id": "initial_id",
   "metadata": {
    "collapsed": true,
    "ExecuteTime": {
     "end_time": "2025-08-18T13:27:34.045346700Z",
     "start_time": "2025-08-18T13:27:33.992562900Z"
    }
   },
   "outputs": [
    {
     "name": "stdout",
     "output_type": "stream",
     "text": [
      "✔️ Libraries and directories are ready.\n"
     ]
    }
   ],
   "source": [
    "import pandas as pd\n",
    "import joblib\n",
    "from pathlib import Path\n",
    "from sklearn.linear_model import LogisticRegression\n",
    "from sklearn.svm import SVC\n",
    "\n",
    "# Directories\n",
    "processed_data_dir = Path(\"..\") / \"processed_data\"\n",
    "models_dir = Path(\"..\") / \"models\"\n",
    "models_dir.mkdir(exist_ok=True)\n",
    "\n",
    "print(\"✔️ Libraries and directories are ready.\")\n"
   ]
  },
  {
   "cell_type": "markdown",
   "source": [
    "## Load Processed Data"
   ],
   "metadata": {
    "collapsed": false
   },
   "id": "cbbc721deb8919ab"
  },
  {
   "cell_type": "code",
   "outputs": [
    {
     "name": "stdout",
     "output_type": "stream",
     "text": [
      "✔️ Data Loaded Successfully!\n",
      "train_data shape: (3415, 12)\n",
      "test_data shape: (854, 12)\n"
     ]
    }
   ],
   "source": [
    "train_data = pd.read_csv(processed_data_dir / \"train.csv\")\n",
    "test_data = pd.read_csv(processed_data_dir / \"test.csv\")\n",
    "\n",
    "print(\"✔️ Data Loaded Successfully!\")\n",
    "print(f\"train_data shape: {train_data.shape}\")\n",
    "print(f\"test_data shape: {test_data.shape}\")\n"
   ],
   "metadata": {
    "collapsed": false,
    "ExecuteTime": {
     "end_time": "2025-08-18T13:27:34.344180400Z",
     "start_time": "2025-08-18T13:27:34.055362800Z"
    }
   },
   "id": "49d52472181b3f51",
   "execution_count": 25
  },
  {
   "cell_type": "markdown",
   "source": [
    "## Prepare Features & Labels"
   ],
   "metadata": {
    "collapsed": false
   },
   "id": "7d3b655e9eeabf52"
  },
  {
   "cell_type": "code",
   "outputs": [
    {
     "name": "stdout",
     "output_type": "stream",
     "text": [
      "✔️ Data Prepared for Training.\n",
      "X_train shape: (3415, 11), y_train shape: (3415,)\n",
      "X_test shape: (854, 11), y_test shape: (854,)\n"
     ]
    }
   ],
   "source": [
    "X_train = train_data.drop(columns=[\"loan_status\"])\n",
    "y_train = train_data[\"loan_status\"]\n",
    "\n",
    "X_test = test_data.drop(columns=[\"loan_status\"])\n",
    "y_test = test_data[\"loan_status\"]\n",
    "\n",
    "print(\"✔️ Data Prepared for Training.\")\n",
    "print(f\"X_train shape: {X_train.shape}, y_train shape: {y_train.shape}\")\n",
    "print(f\"X_test shape: {X_test.shape}, y_test shape: {y_test.shape}\")\n"
   ],
   "metadata": {
    "collapsed": false,
    "ExecuteTime": {
     "end_time": "2025-08-18T13:27:34.492536800Z",
     "start_time": "2025-08-18T13:27:34.354702400Z"
    }
   },
   "id": "b272191e7c6cc625",
   "execution_count": 26
  },
  {
   "cell_type": "markdown",
   "source": [
    "## Train Logistic Regression"
   ],
   "metadata": {
    "collapsed": false
   },
   "id": "be55477d75c29f4a"
  },
  {
   "cell_type": "code",
   "outputs": [
    {
     "name": "stdout",
     "output_type": "stream",
     "text": [
      "✔️ Logistic Regression Model Trained & Saved.\n"
     ]
    }
   ],
   "source": [
    "log_reg_model = LogisticRegression(max_iter=1000, random_state=42)\n",
    "log_reg_model.fit(X_train, y_train)\n",
    "\n",
    "# Save Model\n",
    "joblib.dump(log_reg_model, models_dir / \"logistic_regression_model.pkl\")\n",
    "\n",
    "print(\"✔️ Logistic Regression Model Trained & Saved.\")\n"
   ],
   "metadata": {
    "collapsed": false,
    "ExecuteTime": {
     "end_time": "2025-08-18T13:27:34.854855400Z",
     "start_time": "2025-08-18T13:27:34.416221600Z"
    }
   },
   "id": "29812b6373162610",
   "execution_count": 27
  },
  {
   "cell_type": "markdown",
   "source": [
    "## Train SVM Classifier"
   ],
   "metadata": {
    "collapsed": false
   },
   "id": "e0c0870f9512b31"
  },
  {
   "cell_type": "code",
   "outputs": [
    {
     "name": "stdout",
     "output_type": "stream",
     "text": [
      "✔️ SVM Model Trained & Saved.\n"
     ]
    }
   ],
   "source": [
    "svm_model = SVC(kernel=\"linear\", probability=True, random_state=42)\n",
    "svm_model.fit(X_train, y_train)\n",
    "\n",
    "# Save Model\n",
    "joblib.dump(svm_model, models_dir / \"svm_model.pkl\")\n",
    "\n",
    "print(\"✔️ SVM Model Trained & Saved.\")\n"
   ],
   "metadata": {
    "collapsed": false,
    "ExecuteTime": {
     "end_time": "2025-08-18T13:27:35.799110600Z",
     "start_time": "2025-08-18T13:27:34.868795500Z"
    }
   },
   "id": "3f83dfe566a194ad",
   "execution_count": 28
  }
 ],
 "metadata": {
  "kernelspec": {
   "display_name": "Python 3",
   "language": "python",
   "name": "python3"
  },
  "language_info": {
   "codemirror_mode": {
    "name": "ipython",
    "version": 2
   },
   "file_extension": ".py",
   "mimetype": "text/x-python",
   "name": "python",
   "nbconvert_exporter": "python",
   "pygments_lexer": "ipython2",
   "version": "2.7.6"
  }
 },
 "nbformat": 4,
 "nbformat_minor": 5
}
